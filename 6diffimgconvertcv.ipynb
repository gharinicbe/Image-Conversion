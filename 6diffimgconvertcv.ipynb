{
 "cells": [
  {
   "cell_type": "code",
   "execution_count": null,
   "id": "6c0deb5d",
   "metadata": {},
   "outputs": [],
   "source": [
    "#!pip install easygui"
   ]
  },
  {
   "cell_type": "code",
   "execution_count": null,
   "id": "e5706436",
   "metadata": {},
   "outputs": [],
   "source": [
    "import cv2\n",
    "import os\n",
    "import matplotlib.pyplot as plt\n",
    "import easygui\n",
    "import tkinter as tk\n",
    "from tkinter import*"
   ]
  },
  {
   "cell_type": "code",
   "execution_count": null,
   "id": "0082021e",
   "metadata": {},
   "outputs": [],
   "source": [
    "root=tk.Tk()\n",
    "root.geometry('700x700')\n",
    "root.title('Choose to convert!')\n",
    "root.configure(background='light green')\n",
    "label=Label(root,background='black',font=('ariel',30,'bold'))"
   ]
  },
  {
   "cell_type": "code",
   "execution_count": null,
   "id": "c480dfbe",
   "metadata": {},
   "outputs": [],
   "source": [
    "def u():\n",
    "    \n",
    "    image_path=easygui.fileopenbox()\n",
    "    c(image_path)"
   ]
  },
  {
   "cell_type": "code",
   "execution_count": null,
   "id": "13161f02",
   "metadata": {},
   "outputs": [],
   "source": [
    "def c(image_path):\n",
    "    originalimage=cv2.imread(image_path)\n",
    "    originalimage=cv2.cvtColor(originalimage,cv2.COLOR_BGR2RGB)\n",
    "    \n",
    "    if originalimage is None:\n",
    "        print(\"Image not found!\")\n",
    "        sys.exit()\n",
    "        \n",
    "    R1=cv2.resize(originalimage,(930,510))\n",
    "    \n",
    "    grayscale=cv2.cvtColor(originalimage,cv2.COLOR_BGR2GRAY)\n",
    "    R2=cv2.resize(grayscale,(930,510))\n",
    "    \n",
    "    smoothgray=cv2.medianBlur(grayscale,5)\n",
    "    R3=cv2.resize(smoothgray,(930,510))\n",
    "    \n",
    "    getedge=cv2.adaptiveThreshold(smoothgray,255,cv2.ADAPTIVE_THRESH_MEAN_C,cv2.THRESH_BINARY,9,9)\n",
    "    R4=cv2.resize(getedge,(930,510))\n",
    "    \n",
    "    colorimage=cv2.bilateralFilter(originalimage,9,300,300)\n",
    "    R5=cv2.resize(colorimage,(930,510))\n",
    "    \n",
    "    cartoonimage=cv2.bitwise_and(colorimage,colorimage,mask=getedge)\n",
    "    R6=cv2.resize(cartoonimage,(930,510))\n",
    "    \n",
    "    images=[R1,R2,R3,R4,R5,R6]\n",
    "    \n",
    "    fig,axes= plt.subplots(3,2,figsize=(8,8),subplot_kw={'xticks':[],'yticks':[]},gridspec_kw= dict(hspace=0.1,wspace=0.1))\n",
    "    \n",
    "    for i,ax in enumerate(axes.flat):\n",
    "        ax.imshow(images[i],cmap='gray')\n",
    "        \n",
    "        \n",
    "    save1=Button(root,text=\"Save cartoon image\",command=lambda :save(R6,image_path),padx=30,pady=5)\n",
    "    save1.configure(background='red',foreground='black',font=('ariel',20,'bold'))\n",
    "    save1.pack(side=TOP,pady=50)\n",
    "    \n",
    "    plt.show()"
   ]
  },
  {
   "cell_type": "markdown",
   "id": "204d3603",
   "metadata": {},
   "source": [
    "originalimage: This is the input image on which the bilateral filtering operation will be performed. It should be a color image.\n",
    "\n",
    "9: The diameter of the pixel neighborhood used for filtering. It defines the size of the kernel or window. A larger value will consider more distant pixels for filtering, resulting in stronger smoothing effects.\n",
    "\n",
    "300: The sigma value for the color space. It determines the range of colors to be considered when filtering. A higher value will include a wider range of colors, resulting in less localized filtering.\n",
    "\n",
    "300: The sigma value for the coordinate space. It specifies how much spatial proximity should be considered when filtering. A higher value will allow for a larger spatial neighborhood, resulting in smoother transitions between edges.\n",
    "\n",
    "The cv2.bilateralFilter() function performs bilateral filtering, which is a non-linear filtering technique that preserves edges while reducing noise in an image. It considers both the spatial proximity and color similarity of pixels when applying the filtering operation. The resulting image, colorimage, will have reduced noise while preserving important edges and details in the original image."
   ]
  },
  {
   "cell_type": "markdown",
   "id": "db0e1879",
   "metadata": {},
   "source": [
    "colorimage: This is the input color image that will be used as the source for the bitwise AND operation.\n",
    "\n",
    "colorimage: This is the second input color image that will also be used as the source for the bitwise AND operation. In this case, it is the same as the first input image, resulting in a self-and operation.\n",
    "\n",
    "mask=getedge: This is the mask that is used as a binary filter to determine which pixels from the source images should be included in the output. The getedge variable is assumed to contain a binary image (0 and 255 values) that represents the edges obtained from the previous processing steps.\n",
    "\n",
    "The cv2.bitwise_and() function performs a bitwise AND operation between corresponding pixels of the input images, using the mask as a filter. In this case, it retains only those pixels where the corresponding pixel in the getedge mask is non-zero (255), while setting all other pixels to zero.\n",
    "\n",
    "The resulting image, cartoonimage, will contain only the pixels from the colorimage that correspond to the edges obtained from the getedge mask. This operation helps to emphasize the edges and create a cartoon-like effect by removing the non-edge regions from the original image."
   ]
  },
  {
   "cell_type": "markdown",
   "id": "4f853a7b",
   "metadata": {},
   "source": [
    "smoothgray: This is the input grayscale image on which the adaptive thresholding operation will be performed.\n",
    "\n",
    "255: The maximum value that can be assigned to a pixel after the thresholding operation. In this case, any pixel value above the threshold will be set to this maximum value.\n",
    "\n",
    "cv2.ADAPTIVE_THRESH_MEAN_C: This is the adaptive thresholding method used. It specifies that the threshold value should be the mean of the neighborhood area.\n",
    "\n",
    "cv2.THRESH_BINARY: The thresholding type. It indicates that pixels with intensity values above the threshold will be set to the maximum value, while pixels below the threshold will be set to zero.\n",
    "\n",
    "9: The size of the neighborhood area (block size) used for calculating the threshold value. It is a square window of size 9x9 pixels.\n",
    "\n",
    "9: The constant subtracted from the mean to obtain the threshold value. This value is used to fine-tune the thresholding operation.\n",
    "\n",
    "The cv2.adaptiveThreshold() function applies adaptive thresholding, where the threshold value for each pixel is calculated based on the local neighborhood of the pixel. This allows for more adaptive and localized thresholding compared to global thresholding methods. The resulting binary image, getedge, will have pixels classified as either 0 or 255 based on whether they are below or above the adaptive threshold, respectively."
   ]
  },
  {
   "cell_type": "code",
   "execution_count": null,
   "id": "9dda54b6",
   "metadata": {},
   "outputs": [],
   "source": [
    "  \n",
    "def save(Resize6,image_path):\n",
    "    \n",
    "    newname='Converted Image.....'\n",
    "    path1=os.path.dirname(image_path)\n",
    "    extension= os.path.splitext(image_path)[1]\n",
    "    path= os.path.join(path1,newname+extension)\n",
    "    cv2.imwrite(path,cv2.cvtColor(Resize6,cv2.COLOR_RGB2BGR))\n",
    "    I='The saved image is'+newname+'at'+path\n",
    "    tk.messagebox.showinfo(title=None,message=I)\n",
    "\n",
    "a=Button(root,text=\"Convertion of Image\",command=u,padx=30,pady=15)\n",
    "a.configure(background='white',foreground='black',font=('arial',20,'bold'))\n",
    "a.pack(side=TOP,pady=50)\n",
    "\n",
    "root.mainloop()"
   ]
  },
  {
   "cell_type": "code",
   "execution_count": null,
   "id": "2bec5953",
   "metadata": {},
   "outputs": [],
   "source": []
  }
 ],
 "metadata": {
  "kernelspec": {
   "display_name": "Python 3 (ipykernel)",
   "language": "python",
   "name": "python3"
  },
  "language_info": {
   "codemirror_mode": {
    "name": "ipython",
    "version": 3
   },
   "file_extension": ".py",
   "mimetype": "text/x-python",
   "name": "python",
   "nbconvert_exporter": "python",
   "pygments_lexer": "ipython3",
   "version": "3.9.13"
  }
 },
 "nbformat": 4,
 "nbformat_minor": 5
}
